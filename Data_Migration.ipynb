{
 "cells": [
  {
   "cell_type": "markdown",
   "metadata": {},
   "source": [
    "# Phonepe Pulse Data Visualization and Exploration:\n",
    "\n",
    "## Data Migration"
   ]
  },
  {
   "cell_type": "code",
   "execution_count": null,
   "metadata": {},
   "outputs": [],
   "source": [
    "# pip install mysql-connector-python"
   ]
  },
  {
   "cell_type": "code",
   "execution_count": 1,
   "metadata": {},
   "outputs": [],
   "source": [
    "# Importing Libraries:\n",
    "import pandas as pd\n",
    "import mysql.connector as sql\n",
    "import os "
   ]
  },
  {
   "cell_type": "code",
   "execution_count": 9,
   "metadata": {},
   "outputs": [],
   "source": [
    "df_agg_trans = pd.read_csv(r\"C:\\Users\\tinku\\Downloads\\agg_trans.csv\")\n",
    "df_agg_user = pd.read_csv(r\"C:\\Users\\tinku\\Downloads\\agg_user.csv\")\n",
    "df_map_trans = pd.read_csv(r\"C:\\Users\\tinku\\Downloads\\map_trans.csv\")\n",
    "df_map_user = pd.read_csv(r\"C:\\Users\\tinku\\Downloads\\map_user.csv\")\n",
    "df_top_trans = pd.read_csv(r\"C:\\Users\\tinku\\Downloads\\top_trans.csv\") \n",
    "df_top_user = pd.read_csv(r\"C:\\Users\\tinku\\Downloads\\top_user.csv\")"
   ]
  },
  {
   "cell_type": "code",
   "execution_count": 2,
   "metadata": {},
   "outputs": [
    {
     "name": "stdout",
     "output_type": "stream",
     "text": [
      "MySQL connection and cursor successfully initialized.\n"
     ]
    }
   ],
   "source": [
    "def init_connection(host, user, password, database):\n",
    "    try:\n",
    "        mydb = sql.connect(\n",
    "            host=host,\n",
    "            user=user,\n",
    "            password=password,\n",
    "            database=database\n",
    "        )\n",
    "        mycursor = mydb.cursor(buffered=True)\n",
    "        return mydb, mycursor\n",
    "    except sql.Error as e:\n",
    "        print(\"Error while connecting to MySQL:\", e)\n",
    "        return None, None\n",
    "\n",
    "# MySQL connection details\n",
    "host = \"localhost\"\n",
    "user = \"root\"\n",
    "password = \"tinku.2499\"\n",
    "database = \"phonepe_pulse\"\n",
    "\n",
    "# Initialize MySQL connection and cursor\n",
    "mydb, cur = init_connection(host, user, password, database)\n",
    "\n",
    "# Check if the connection and cursor are successfully initialized\n",
    "if mydb and cur:\n",
    "    print(\"MySQL connection and cursor successfully initialized.\")\n",
    "    # Now you can use mydb and mycursor for executing queries\n",
    "else:\n",
    "    print(\"MySQL connection and cursor initialization failed.\")"
   ]
  },
  {
   "cell_type": "code",
   "execution_count": 6,
   "metadata": {},
   "outputs": [],
   "source": [
    "# cur.execute(\"CREATE DATABASE phonepe_pulse\")"
   ]
  },
  {
   "cell_type": "code",
   "execution_count": 8,
   "metadata": {},
   "outputs": [],
   "source": [
    "cur.execute(\"create table agg_trans (State varchar(100), Year int, Quarter int, Transaction_type varchar(100), Transaction_count int, Transaction_amount double)\")\n",
    "\n",
    "for i,row in df_agg_trans.iterrows():\n",
    "    sql = \"INSERT INTO agg_trans VALUES (%s,%s,%s,%s,%s,%s)\"\n",
    "    cur.execute(sql, tuple(row))\n",
    "    mydb.commit()"
   ]
  },
  {
   "cell_type": "code",
   "execution_count": 11,
   "metadata": {},
   "outputs": [],
   "source": [
    "cur.execute(\"create table agg_user (State varchar(100), Year int, Quarter int, Brands varchar(100), Count int, Percentage double)\")\n",
    "\n",
    "for i,row in df_agg_user.iterrows():\n",
    "    sql = \"INSERT INTO agg_user VALUES (%s,%s,%s,%s,%s,%s)\"\n",
    "    cur.execute(sql, tuple(row))\n",
    "    mydb.commit()"
   ]
  },
  {
   "cell_type": "code",
   "execution_count": 12,
   "metadata": {},
   "outputs": [],
   "source": [
    "cur.execute(\"create table map_trans (State varchar(100), Year int, Quarter int, District varchar(100), Count int, Amount double)\")\n",
    "\n",
    "for i,row in df_map_trans.iterrows():\n",
    "    sql = \"INSERT INTO map_trans VALUES (%s,%s,%s,%s,%s,%s)\"\n",
    "    cur.execute(sql, tuple(row))\n",
    "    mydb.commit()"
   ]
  },
  {
   "cell_type": "code",
   "execution_count": 13,
   "metadata": {},
   "outputs": [],
   "source": [
    "cur.execute(\"create table map_user (State varchar(100), Year int, Quarter int, District varchar(100), Registered_user int, App_opens int)\")\n",
    "\n",
    "for i,row in df_map_user.iterrows():\n",
    "    sql = \"INSERT INTO map_user VALUES (%s,%s,%s,%s,%s,%s)\"\n",
    "    cur.execute(sql, tuple(row))\n",
    "    mydb.commit()"
   ]
  },
  {
   "cell_type": "code",
   "execution_count": null,
   "metadata": {},
   "outputs": [],
   "source": [
    "cur.execute(\"create table top_trans (State varchar(100), Year int, Quarter int, Pincode int, Transaction_count int, Transaction_amount double)\")\n",
    "\n",
    "for i,row in df_top_trans.iterrows():\n",
    "    sql = \"INSERT INTO top_trans VALUES (%s,%s,%s,%s,%s,%s)\"\n",
    "    cur.execute(sql, tuple(row))\n",
    "    mydb.commit()"
   ]
  },
  {
   "cell_type": "code",
   "execution_count": 15,
   "metadata": {},
   "outputs": [],
   "source": [
    "cur.execute(\"create table top_user (State varchar(100), Year int, Quarter int, Pincode int, Registered_users int)\")\n",
    "\n",
    "for i,row in df_top_user.iterrows():\n",
    "    sql = \"INSERT INTO top_user VALUES (%s,%s,%s,%s,%s)\"\n",
    "    cur.execute(sql, tuple(row))\n",
    "    mydb.commit()"
   ]
  }
 ],
 "metadata": {
  "kernelspec": {
   "display_name": "base",
   "language": "python",
   "name": "python3"
  },
  "language_info": {
   "codemirror_mode": {
    "name": "ipython",
    "version": 3
   },
   "file_extension": ".py",
   "mimetype": "text/x-python",
   "name": "python",
   "nbconvert_exporter": "python",
   "pygments_lexer": "ipython3",
   "version": "3.10.0"
  },
  "orig_nbformat": 4
 },
 "nbformat": 4,
 "nbformat_minor": 2
}
